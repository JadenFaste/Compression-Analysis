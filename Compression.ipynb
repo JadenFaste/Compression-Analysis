{
 "cells": [
  {
   "cell_type": "code",
   "execution_count": 13,
   "metadata": {},
   "outputs": [
    {
     "name": "stdout",
     "output_type": "stream",
     "text": [
      "dict_keys(['page-1_table-1'])\n",
      "{'page-1_table-1':     Unnamed: 0 Unnamed: 1     36     48     55     70     87    107     130  \\\n",
      "0        613.0          C    NaN    NaN    NaN    NaN    NaN    NaN  34,300   \n",
      "1          NaN          P    NaN    NaN    NaN    NaN    NaN    NaN   5,230   \n",
      "2          NaN          A    NaN    NaN    NaN    NaN    NaN    NaN    23.3   \n",
      "3          NaN          M    NaN    NaN    NaN    NaN    NaN    NaN     594   \n",
      "4          NaN          E    NaN    NaN    NaN    NaN    NaN    NaN     6.6   \n",
      "..         ...        ...    ...    ...    ...    ...    ...    ...     ...   \n",
      "57         NaN          P  2,200  2,190  2,170  2,140  2,080  2,020   1,960   \n",
      "58         NaN          A    9.9    9.8    9.8    9.6    9.4    9.1     8.8   \n",
      "59         NaN          M    209    266    298    368    450    544     654   \n",
      "60         NaN          E    8.0   10.3   11.7   14.9   18.9   23.8    29.8   \n",
      "61         NaN          %   57.4   63.3   65.7   69.6   71.5   70.7    66.2   \n",
      "\n",
      "       143     156  \n",
      "0   38,300  42,600  \n",
      "1    5,160   5,090  \n",
      "2     23.1    22.7  \n",
      "3      658     727  \n",
      "4      7.4     8.4  \n",
      "..     ...     ...  \n",
      "57   1,925   1,895  \n",
      "58     8.7     8.6  \n",
      "59     714     780  \n",
      "60    33.2    37.0  \n",
      "61    62.1    56.5  \n",
      "\n",
      "[62 rows x 11 columns]}\n"
     ]
    }
   ],
   "source": [
    "import pandas as pd\n",
    "import numpy as np\n",
    "import openpyxl\n",
    "from scipy.interpolate import griddata\n",
    "\n",
    "\n",
    "# Load the dataset\n",
    "file_path = 'Compressor_clean.xlsx'\n",
    "df = pd.read_excel(file_path, sheet_name=None)\n",
    "\n",
    "print(df.keys())\n",
    "\n",
    "print(df)\n"
   ]
  },
  {
   "cell_type": "code",
   "execution_count": 69,
   "metadata": {},
   "outputs": [
    {
     "name": "stdout",
     "output_type": "stream",
     "text": [
      "62661.53846153847\n"
     ]
    },
    {
     "name": "stderr",
     "output_type": "stream",
     "text": [
      "C:\\Users\\bober\\AppData\\Local\\Temp\\ipykernel_8360\\2427458942.py:26: DeprecationWarning: `interp2d` is deprecated in SciPy 1.10 and will be removed in SciPy 1.14.0.\n",
      "\n",
      "For legacy code, nearly bug-for-bug compatible replacements are\n",
      "`RectBivariateSpline` on regular grids, and `bisplrep`/`bisplev` for\n",
      "scattered 2D data.\n",
      "\n",
      "In new code, for regular grids use `RegularGridInterpolator` instead.\n",
      "For scattered data, prefer `LinearNDInterpolator` or\n",
      "`CloughTocher2DInterpolator`.\n",
      "\n",
      "For more details see\n",
      "`https://scipy.github.io/devdocs/notebooks/interp_transition_guide.html`\n",
      "\n",
      "  interp_func_2d = interp2d(evap_temps, condensing_temps, capacities, kind='linear')\n",
      "C:\\Users\\bober\\AppData\\Local\\Temp\\ipykernel_8360\\2427458942.py:39: DeprecationWarning: `interp2d` is deprecated in SciPy 1.10 and will be removed in SciPy 1.14.0.\n",
      "\n",
      "For legacy code, nearly bug-for-bug compatible replacements are\n",
      "`RectBivariateSpline` on regular grids, and `bisplrep`/`bisplev` for\n",
      "scattered 2D data.\n",
      "\n",
      "In new code, for regular grids use `RegularGridInterpolator` instead.\n",
      "For scattered data, prefer `LinearNDInterpolator` or\n",
      "`CloughTocher2DInterpolator`.\n",
      "\n",
      "For more details see\n",
      "`https://scipy.github.io/devdocs/notebooks/interp_transition_guide.html`\n",
      "\n",
      "  interpolated_capacity = interp_func_2d(evap_temp, cond_temp)\n"
     ]
    }
   ],
   "source": [
    "import pandas as pd\n",
    "from scipy.interpolate import interp1d, interp2d\n",
    "from scipy.interpolate import griddata\n",
    "import numpy as np\n",
    "\n",
    "# Load the dataset\n",
    "file_path = 'Compressor_clean.xlsx'\n",
    "df = pd.read_excel(file_path)\n",
    "\n",
    "# Manually set the header based on the correct content\n",
    "df.columns = ['Condensing_Temperature', 'Type', 36, 48, 55, 70, 87, 107, 130, 143, 156]\n",
    "\n",
    "# Filter the Capacity (C) data\n",
    "capacity_data = df[df['Type'] == 'C']\n",
    "capacity_data = capacity_data.drop(columns=['Type']).reset_index(drop=True)\n",
    "\n",
    "# Convert the data to numeric, handling the conversion of commas in the values\n",
    "capacity_data = capacity_data.replace({',': ''}, regex=True).apply(pd.to_numeric, errors='coerce')\n",
    "\n",
    "# Prepare data for 2D interpolation\n",
    "condensing_temps = capacity_data['Condensing_Temperature'].values\n",
    "evap_temps = capacity_data.columns[1:].astype(float)\n",
    "capacities = capacity_data.iloc[:, 1:].values\n",
    "\n",
    "# Create a 2D interpolation function\n",
    "interp_func_2d = interp2d(evap_temps, condensing_temps, capacities, kind='linear')\n",
    "\n",
    "# Function to interpolate Capacity values\n",
    "def interpolate_capacity(evap_temp, cond_temp):\n",
    "    # Check if the evaporating temperature is within the range of available data\n",
    "    if evap_temp < evap_temps.min() or evap_temp > evap_temps.max():\n",
    "        return np.nan\n",
    "\n",
    "    # Check if the condensing temperature is within the range of available data\n",
    "    if cond_temp < condensing_temps.min() or cond_temp > condensing_temps.max():\n",
    "        return np.nan\n",
    "\n",
    "    # Perform 2D interpolation\n",
    "    interpolated_capacity = interp_func_2d(evap_temp, cond_temp)\n",
    "    \n",
    "    return interpolated_capacity[0]  # Extract the interpolated value\n",
    "\n",
    "evap_temp_input = 140\n",
    "cond_temp_input = 236\n",
    "interpolated_capacity = interpolate_capacity(evap_temp_input, cond_temp_input)\n",
    "print(interpolated_capacity)\n"
   ]
  }
 ],
 "metadata": {
  "kernelspec": {
   "display_name": "Python 3",
   "language": "python",
   "name": "python3"
  },
  "language_info": {
   "codemirror_mode": {
    "name": "ipython",
    "version": 3
   },
   "file_extension": ".py",
   "mimetype": "text/x-python",
   "name": "python",
   "nbconvert_exporter": "python",
   "pygments_lexer": "ipython3",
   "version": "3.11.9"
  }
 },
 "nbformat": 4,
 "nbformat_minor": 2
}
